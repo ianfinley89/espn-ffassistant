{
 "cells": [
  {
   "attachments": {},
   "cell_type": "markdown",
   "metadata": {},
   "source": [
    "# Fantasy Football 2024"
   ]
  },
  {
   "cell_type": "markdown",
   "metadata": {},
   "source": [
    "## Initialize library and OpenAI Client"
   ]
  },
  {
   "cell_type": "code",
   "execution_count": 1,
   "metadata": {},
   "outputs": [],
   "source": [
    "from selenium import webdriver\n",
    "from selenium.webdriver.firefox.service import Service\n",
    "from selenium.webdriver.common.by import By\n",
    "from selenium.webdriver.support.ui import WebDriverWait\n",
    "from selenium.webdriver.support import expected_conditions as EC\n",
    "from selenium.common.exceptions import TimeoutException\n",
    "import pandas as pd\n",
    "from openai import OpenAI\n",
    "from ipywidgets import interact, interactive, fixed, interact_manual\n",
    "import ipywidgets as widgets\n",
    "import time\n",
    "import os\n",
    "\n",
    "client = OpenAI(\n",
    "  api_key=os.environ['OPENAI_API_KEY'],  # this is also the default, it can be omitted\n",
    ")\n",
    "\n"
   ]
  },
  {
   "cell_type": "markdown",
   "metadata": {},
   "source": [
    "## Import Expert Opinion and Available players into Dataframes"
   ]
  },
  {
   "cell_type": "code",
   "execution_count": 11,
   "metadata": {},
   "outputs": [],
   "source": [
    "# Load CSV files into DataFrames\n",
    "league_rules = pd.read_csv('LeagueRules.csv')\n",
    "df = pd.read_csv('Available_Players.csv')\n",
    "fantasypros_df = pd.read_csv('Expert_Picks\\FantasyPros_2024_Draft_ALL_Rankings.csv')\n",
    "justin_boone_df = pd.read_csv('Expert_Picks\\JustinBoone_Top250.csv')"
   ]
  },
  {
   "cell_type": "markdown",
   "metadata": {},
   "source": [
    "## Start Firefox Service and Open the Draft Url"
   ]
  },
  {
   "cell_type": "code",
   "execution_count": 9,
   "metadata": {},
   "outputs": [
    {
     "data": {
      "text/plain": [
       "''"
      ]
     },
     "execution_count": 9,
     "metadata": {},
     "output_type": "execute_result"
    }
   ],
   "source": [
    "# Create a Service object with the path to geckodriver\n",
    "service = Service(executable_path='.drivers/geckodriver.exe')\n",
    "\n",
    "# Initialize WebDriver with the Service object\n",
    "driver = webdriver.Firefox(service=service)\n",
    "\n",
    "# Open the ESPN draft page\n",
    "url = input(\"Input the ESPN Draft URL\")\n",
    "driver.get(url)\n",
    "\n",
    "# Pause the script to allow manual login\n",
    "input(\"Please log in manually and then press Enter to continue...\")\n"
   ]
  },
  {
   "cell_type": "markdown",
   "metadata": {},
   "source": [
    "## Run GPT script"
   ]
  },
  {
   "cell_type": "code",
   "execution_count": null,
   "metadata": {},
   "outputs": [],
   "source": [
    "# Prompt to send to OpenAI\n",
    "def create_prompt(df_available, df_roster, round_number, esc_chk =\"\"):\n",
    "    # TODO: Add the widgets to select scoring type and a slider for amount of teams\n",
    "    prompt = f\"You are the greatest fantasy football assistant in the world that talks like Carl from Aqua Teen Hunger Force. \"\\\n",
    "             f\"This is an 10 man PPR league following a snake draft format.\"\\\n",
    "             f\"Here's the situation:\\n\"\\\n",
    "             f\"{esc_chk}\\n\"\\\n",
    "             f\"\\nMy Current Roster:\\n\"\n",
    "            #  f\"Current Round: {round_number}\\n\\n\"\\\n",
    "            #  f\"My Current Roster:\\n\"\n",
    "    \n",
    "    # Add the current roster to the prompt\n",
    "    for _, row in df_roster.iterrows():\n",
    "        prompt += f\"{row['Position']}: {row['Player']}\\n\"\n",
    "    \n",
    "    # Add the available players and their projected points\n",
    "    prompt += \"\\nAvailable Players:\\n\"\n",
    "    \n",
    "    for _, row in df_available.iterrows():\n",
    "        prompt += f\"{row['Player']} ({row['POS']})\\n\"\n",
    "    \n",
    "    # Add expert rankings and ADPs\n",
    "    prompt += \"\\nHere are the expert rankings and ADPs for the top players:\\n\\n\"\n",
    "    \n",
    "    prompt += \"\\nFantasyPros Rankings:\\n\"\n",
    "    for _, row in fantasypros_df.iterrows():\n",
    "        prompt += f\"Player: {row['PLAYER NAME'].title()} | Rank: {row.get('RK', 'N/A')} - POS: {row.get('POS', 'N/A')}\"\\\n",
    "                  f\" - Tier: {row.get('TIERS', 'N/A')}\\n\"\n",
    "    \n",
    "    prompt += \"\\nJustin Boone Rankings:\\n\"\n",
    "    for _, row in justin_boone_df.iterrows():\n",
    "        prompt += f\"Player: {row['Player'].title()} | Rank: {row.get('Rank', 'N/A')}\\n\"\n",
    "\n",
    "    # Final request for draft advice\n",
    "    prompt += f\"\\nBased on the current round, my roster, the combined expert opinions, \"\\\n",
    "              f\"and your own knowledge as the world's best fantasy football assistant, \"\\\n",
    "              f\"who should I draft next? \"\\\n",
    "              f\"I want your top recommendation like this example:\\n\\n\"\\\n",
    "              f\"### Pick Recommendation:\\n\\n\"\\\n",
    "              f\"**Christian McCaffrey (RB)**\\n\"\n",
    "    \n",
    "    return prompt\n",
    "\n",
    "def get_response(prompt):\n",
    "    response = client.chat.completions.create(\n",
    "        model=\"gpt-4o\",\n",
    "        messages=[\n",
    "            {\"role\": \"system\", \"content\": \"You are the greatest fantasy football assistant in the world.\"},\n",
    "            {\"role\": \"user\", \"content\": prompt},\n",
    "        ],\n",
    "        max_tokens=1500,\n",
    "        temperature=0.7,\n",
    "    )\n",
    "    return response\n",
    "\n",
    "# Function to update remaining players based on picks\n",
    "def update_remaining_players(df, picked_players_normalized):\n",
    "    # Normalize the case of the DataFrame's Player column\n",
    "    df['Player_lower'] = df['Player'].str.lower()\n",
    "    # Check which picked players are in the DataFrame\n",
    "    picked_players_in_df = df['Player_lower'].isin(picked_players_normalized)\n",
    "    # Remove picked players from the DataFrame\n",
    "    df_filtered = df[~picked_players_in_df]\n",
    "    # Drop the temporary lowercase column\n",
    "    df_filtered = df_filtered.drop(columns=['Player_lower'])\n",
    "    # Save the updated DataFrame back to the CSV\n",
    "    df_filtered.to_csv('Updated_Available_Players.csv', index=False)\n",
    "    # Return the filtered DataFrame for the next iteration\n",
    "    return df_filtered\n",
    "\n",
    "def update_current_roster(roster_rows):\n",
    "    roster = []\n",
    "    headers = None  # Placeholder for column headers\n",
    "        \n",
    "    for row in roster_rows:\n",
    "        # Extract the text content of the row\n",
    "        row_text = row.text.strip()\n",
    "        \n",
    "        # Check if this is the \"POS: PLAYER\" header row\n",
    "        if row_text == \"POS\\nPLAYER\\nBYE\":\n",
    "            headers = [\"Position\", \"Player\"]\n",
    "            continue  # Skip adding this to the roster list\n",
    "        \n",
    "        # Skip rows that don't match the expected pattern (e.g., headers or irrelevant rows)\n",
    "        if '\\n' in row_text and len(row_text.split('\\n')) == 3:\n",
    "            position, player, _ = row_text.split('\\n')\n",
    "            roster.append((position, player))\n",
    "    # Convert roster list to a DataFrame\n",
    "    df_roster = pd.DataFrame(roster, columns=headers)\n",
    "    \n",
    "    # Save the DataFrame to a CSV file\n",
    "    df_roster.to_csv('Current_Roster.csv', index=False)\n",
    "    print(\"Roster saved to Current_Roster.csv\")\n",
    "    return df_roster\n",
    "\n",
    "kill = False\n",
    "while not kill:\n",
    "    err = False  # Initialize the error flag for each loop iteration\n",
    "    try:\n",
    "        # We want to select the second div inside the round-divider container\n",
    "        round_element = WebDriverWait(driver, 30).until(\n",
    "            EC.presence_of_element_located((By.XPATH, '(//div[contains(@class, \"round-divider__container\")]//div)[2]'))\n",
    "        )\n",
    "        round_number = round_element.text.strip()\n",
    "    except Exception as e:\n",
    "        err = True\n",
    "        print(\"Error extracting the current round:\", e)\n",
    "        round_number = \"Unknown\"  # Fallback value\n",
    "\n",
    "\n",
    "    # Find all picked players from the activity feed\n",
    "    try:\n",
    "        picked_players = WebDriverWait(driver, 15).until(\n",
    "            EC.presence_of_all_elements_located((By.XPATH, '//div[contains(@class, \"pick__message-content\") and contains(@class, \"flex\") and contains(@class, \"items-end\")]//span[contains(@class, \"playerinfo__playername\")]'))\n",
    "        )\n",
    "        \n",
    "        # Extract player names, normalize case (convert to lowercase), and remove duplicates from the picked players list\n",
    "        picked_players_normalized = set(player.text.lower() for player in picked_players)\n",
    "        print(f\"Picked players: {picked_players_normalized}\")\n",
    "        \n",
    "        # Update the remaining players in the DataFrame\n",
    "        df = update_remaining_players(df, picked_players_normalized)\n",
    "\n",
    "    except TimeoutException as ex:\n",
    "        print(\"No players have been picked yet. Proceeding to next step.\")\n",
    "        picked_players_normalized = set()\n",
    "        err = False\n",
    "    \n",
    "    except Exception as e:\n",
    "        err = True\n",
    "        print(\"Error extracting picks from activity feed:\", e)\n",
    "\n",
    "    # Extract the full roster with positions and corresponding players\n",
    "    try:\n",
    "        # Find all roster rows\n",
    "        roster_rows = WebDriverWait(driver, 30).until(\n",
    "            EC.presence_of_all_elements_located((By.XPATH, '//tr[contains(@class, \"Table__TR\")]'))\n",
    "        )\n",
    "        # Update the current roster and save to csv\n",
    "        df_roster = update_current_roster(roster_rows)\n",
    "\n",
    "    except Exception as e:\n",
    "        err = True\n",
    "        print(\"Error extracting current roster:\", e)\n",
    "    if not err:\n",
    "        # Generate Prompt\n",
    "        prompt = create_prompt(df, df_roster, round_number, esc_chk)\n",
    "        # Get Response\n",
    "        response = get_response(prompt)\n",
    "\n",
    "        #Parse the response for the recommendations\n",
    "        recommendation = response.choices[0].message.content.strip()\n",
    "        print(\"GPT-4 Recommendation:\", recommendation)\n",
    "    else:\n",
    "        print(\"error getting information for GPT-4 Prompt\")\n",
    "    try:\n",
    "        esc_chk = input(\"Add preferences here for next prompt, or type 'exit' to quit\")\n",
    "    except Exception as e:\n",
    "        print(\"Pressed ESC, closing program.\")\n",
    "        driver.quit()\n",
    "        break\n",
    "    if esc_chk == \"exit\":\n",
    "        print(\"Closing program.\")\n",
    "        kill = True\n",
    "print(\"Killed the Program\")"
   ]
  },
  {
   "cell_type": "markdown",
   "metadata": {},
   "source": [
    "## Kill service when Done!"
   ]
  },
  {
   "cell_type": "code",
   "execution_count": 8,
   "metadata": {},
   "outputs": [],
   "source": [
    "driver.quit()"
   ]
  }
 ],
 "metadata": {
  "kernelspec": {
   "display_name": "ffball",
   "language": "python",
   "name": "python3"
  },
  "language_info": {
   "codemirror_mode": {
    "name": "ipython",
    "version": 3
   },
   "file_extension": ".py",
   "mimetype": "text/x-python",
   "name": "python",
   "nbconvert_exporter": "python",
   "pygments_lexer": "ipython3",
   "version": "3.11.2"
  },
  "orig_nbformat": 4
 },
 "nbformat": 4,
 "nbformat_minor": 2
}
